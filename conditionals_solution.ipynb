{
 "cells": [
  {
   "cell_type": "markdown",
   "id": "9d41208f",
   "metadata": {},
   "source": [
    "# Exercises on conditional statements\n",
    "\n",
    "For background, please read the [conditional statements](https://lisds.github.io/textbook/functions-conditionals/conditional_statements) introduction."
   ]
  },
  {
   "cell_type": "code",
   "execution_count": 1,
   "id": "100344ad",
   "metadata": {
    "execution": {
     "iopub.execute_input": "2022-12-12T16:17:30.762482Z",
     "iopub.status.busy": "2022-12-12T16:17:30.762013Z",
     "iopub.status.idle": "2022-12-12T16:17:30.870074Z",
     "shell.execute_reply": "2022-12-12T16:17:30.869702Z"
    }
   },
   "outputs": [],
   "source": [
    "# Load the OKpy test library and tests.\n",
    "from client.api.notebook import Notebook\n",
    "ok = Notebook('conditionals.ok')"
   ]
  },
  {
   "cell_type": "markdown",
   "id": "2d250044",
   "metadata": {},
   "source": [
    "This *if statement* is not properly defined, and will give a `SyntaxError`.\n",
    "Fix it, so that `y` gets set to \"That's right\"."
   ]
  },
  {
   "cell_type": "code",
   "execution_count": 2,
   "id": "5bb636af",
   "metadata": {
    "execution": {
     "iopub.execute_input": "2022-12-12T16:17:30.872311Z",
     "iopub.status.busy": "2022-12-12T16:17:30.872155Z",
     "iopub.status.idle": "2022-12-12T16:17:30.877759Z",
     "shell.execute_reply": "2022-12-12T16:17:30.877457Z"
    }
   },
   "outputs": [],
   "source": [
    "x = 10\n",
    "if x > 4:\n",
    "    y = \"That's right\"\n",
    "# Show the value of y\n",
    "y"
   ]
  },
  {
   "cell_type": "code",
   "execution_count": 3,
   "id": "88912056",
   "metadata": {
    "execution": {
     "iopub.execute_input": "2022-12-12T16:17:30.879761Z",
     "iopub.status.busy": "2022-12-12T16:17:30.879614Z",
     "iopub.status.idle": "2022-12-12T16:17:30.891562Z",
     "shell.execute_reply": "2022-12-12T16:17:30.891185Z"
    },
    "lines_to_next_cell": 2
   },
   "outputs": [],
   "source": [
    "_ = ok.grade('q_1_y')"
   ]
  },
  {
   "cell_type": "markdown",
   "id": "75654ac7",
   "metadata": {},
   "source": [
    "This `if` statement also gives a `SyntaxError`. Fix and run. It\n",
    "should set `p` to have the value -8."
   ]
  },
  {
   "cell_type": "code",
   "execution_count": 4,
   "id": "4fa69340",
   "metadata": {
    "execution": {
     "iopub.execute_input": "2022-12-12T16:17:30.895763Z",
     "iopub.status.busy": "2022-12-12T16:17:30.895620Z",
     "iopub.status.idle": "2022-12-12T16:17:30.898249Z",
     "shell.execute_reply": "2022-12-12T16:17:30.897923Z"
    }
   },
   "outputs": [],
   "source": [
    "p = -2\n",
    "if p < 0:\n",
    "    p = p * 4\n",
    "p"
   ]
  },
  {
   "cell_type": "code",
   "execution_count": 5,
   "id": "c364af54",
   "metadata": {
    "execution": {
     "iopub.execute_input": "2022-12-12T16:17:30.900078Z",
     "iopub.status.busy": "2022-12-12T16:17:30.899936Z",
     "iopub.status.idle": "2022-12-12T16:17:30.907503Z",
     "shell.execute_reply": "2022-12-12T16:17:30.907138Z"
    },
    "lines_to_next_cell": 2
   },
   "outputs": [],
   "source": [
    "_ = ok.grade('q_2_p')"
   ]
  },
  {
   "cell_type": "markdown",
   "id": "be71b8cb",
   "metadata": {},
   "source": [
    "Another `SyntaxError`; fix and run.  It should show `a divided\n",
    "by 6 is 4`"
   ]
  },
  {
   "cell_type": "code",
   "execution_count": 6,
   "id": "bbc25055",
   "metadata": {
    "execution": {
     "iopub.execute_input": "2022-12-12T16:17:30.911345Z",
     "iopub.status.busy": "2022-12-12T16:17:30.911100Z",
     "iopub.status.idle": "2022-12-12T16:17:30.913903Z",
     "shell.execute_reply": "2022-12-12T16:17:30.913576Z"
    }
   },
   "outputs": [],
   "source": [
    "a = 24\n",
    "if a / 6 == 4:\n",
    "    result = 'a divided by 6 is 4'\n",
    "result"
   ]
  },
  {
   "cell_type": "code",
   "execution_count": 7,
   "id": "7b6ef4d7",
   "metadata": {
    "execution": {
     "iopub.execute_input": "2022-12-12T16:17:30.915721Z",
     "iopub.status.busy": "2022-12-12T16:17:30.915582Z",
     "iopub.status.idle": "2022-12-12T16:17:30.923266Z",
     "shell.execute_reply": "2022-12-12T16:17:30.922906Z"
    }
   },
   "outputs": [],
   "source": [
    "_ = ok.grade('q_3_result')"
   ]
  },
  {
   "cell_type": "markdown",
   "id": "a50966b4",
   "metadata": {},
   "source": [
    "We want an algorithm to choose a newspaper for someone to read\n",
    "in the dentist's waiting room, given what we know about their\n",
    "views on Brexit.\n",
    "\n",
    "Complete the cell below.   At the top, you set `posh_voter` to be one of `'Hard\n",
    "Brexit'`, `'Soft Brexit'`, `'No-deal Brexit`,  or `'Remain'`, or something\n",
    "else.  Complete the cell so that it displays `'Times'` if `posh_voter` has the\n",
    "value `'Soft Brexit'`, otherwise shows `'Telegraph'` if `posh_voter` has the\n",
    "value `'Hard Brexit'` otherwise shows `'Daily Express'` if voter is `'No-deal\n",
    "Brexit'` otherwise shows `'Guardian'` if voter has value `'Remain'`, otherwise\n",
    "shows `'Eclectic / internet?'`.\n",
    "\n",
    "Run the cell with each of the possible `posh_voter` values to check your code\n",
    "gives the right answer."
   ]
  },
  {
   "cell_type": "code",
   "execution_count": 8,
   "id": "3f1fa639",
   "metadata": {
    "execution": {
     "iopub.execute_input": "2022-12-12T16:17:30.926754Z",
     "iopub.status.busy": "2022-12-12T16:17:30.926616Z",
     "iopub.status.idle": "2022-12-12T16:17:30.929937Z",
     "shell.execute_reply": "2022-12-12T16:17:30.929534Z"
    }
   },
   "outputs": [],
   "source": [
    "posh_voter = 'Hard Brexit'\n",
    "# You can uncomment these lines to set the voter type.\n",
    "# Uncomment by removing the #  at the beginning of the line.\n",
    "# Remember to comment the other voter types.\n",
    "# Comment by adding #  at the beginning of the line.\n",
    "# posh_voter = 'Remain'\n",
    "# posh_voter = 'Hard Brexit'\n",
    "# posh_voter = 'No-deal Brexit'\n",
    "# posh_voter = 'Remain'\n",
    "# posh_voter = 'Undecided'\n",
    "\n",
    "paper = 'Eclectic / internet?'\n",
    "if posh_voter == 'Soft Brexit':\n",
    "    paper =  'Times'\n",
    "if posh_voter == 'Hard Brexit':\n",
    "    paper =  'Telegraph'\n",
    "if posh_voter == 'No-deal Brexit':\n",
    "    paper =  'Daily Express'\n",
    "if posh_voter == 'Remain':\n",
    "    paper =  'Guardian'\n",
    "\n",
    "# Show the result\n",
    "paper"
   ]
  },
  {
   "cell_type": "markdown",
   "id": "0fc39b83",
   "metadata": {},
   "source": [
    "## Done\n",
    "\n",
    "You're finished with the assignment!  Be sure to...\n",
    "\n",
    "- **run all the tests** (the next cell has a shortcut for that),\n",
    "- **Save and Checkpoint** from the \"File\" menu."
   ]
  },
  {
   "cell_type": "code",
   "execution_count": 9,
   "id": "8c527c9f",
   "metadata": {
    "execution": {
     "iopub.execute_input": "2022-12-12T16:17:30.931864Z",
     "iopub.status.busy": "2022-12-12T16:17:30.931746Z",
     "iopub.status.idle": "2022-12-12T16:17:30.949571Z",
     "shell.execute_reply": "2022-12-12T16:17:30.949225Z"
    }
   },
   "outputs": [],
   "source": [
    "# For your convenience, you can run this cell to run all the tests at once!\n",
    "import os\n",
    "_ = [ok.grade(q[:-3]) for q in sorted(os.listdir(\"tests\")) if q.startswith('q')]"
   ]
  }
 ],
 "metadata": {
  "jupytext": {
   "notebook_metadata_filter": "all,-language_info",
   "split_at_heading": true,
   "text_representation": {
    "extension": ".Rmd",
    "format_name": "rmarkdown",
    "format_version": "1.1",
    "jupytext_version": "1.2.4"
   }
  },
  "kernelspec": {
   "display_name": "Python 3",
   "language": "python",
   "name": "python3"
  },
  "language_info": {
   "codemirror_mode": {
    "name": "ipython",
    "version": 3
   },
   "file_extension": ".py",
   "mimetype": "text/x-python",
   "name": "python",
   "nbconvert_exporter": "python",
   "pygments_lexer": "ipython3",
   "version": "3.10.7"
  },
  "textbook": {
   "run": false
  }
 },
 "nbformat": 4,
 "nbformat_minor": 5
}
