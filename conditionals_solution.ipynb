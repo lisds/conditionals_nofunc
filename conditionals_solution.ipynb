{
 "cells": [
  {
   "cell_type": "markdown",
   "id": "27344d28",
   "metadata": {},
   "source": [
    "# Exercises on conditional statements\n",
    "\n",
    "For background, please read the [conditional statements](https://lisds.github.io/textbook/functions-conditionals/conditional_statements) introduction."
   ]
  },
  {
   "cell_type": "code",
   "execution_count": 1,
   "id": "41d64a24",
   "metadata": {
    "execution": {
     "iopub.execute_input": "2022-12-12T11:59:50.705147Z",
     "iopub.status.busy": "2022-12-12T11:59:50.704525Z",
     "iopub.status.idle": "2022-12-12T11:59:50.803223Z",
     "shell.execute_reply": "2022-12-12T11:59:50.802857Z"
    }
   },
   "outputs": [],
   "source": [
    "# Load the OKpy test library and tests.\n",
    "from client.api.notebook import Notebook\n",
    "ok = Notebook('conditionals.ok')"
   ]
  },
  {
   "cell_type": "markdown",
   "id": "19287a6b",
   "metadata": {},
   "source": [
    "This *if statement* is not properly defined, and will give a `SyntaxError`.\n",
    "Fix it, so that `y` gets set to \"That's right\"."
   ]
  },
  {
   "cell_type": "code",
   "execution_count": 2,
   "id": "4991133e",
   "metadata": {
    "execution": {
     "iopub.execute_input": "2022-12-12T11:59:50.805421Z",
     "iopub.status.busy": "2022-12-12T11:59:50.805268Z",
     "iopub.status.idle": "2022-12-12T11:59:50.810991Z",
     "shell.execute_reply": "2022-12-12T11:59:50.810649Z"
    }
   },
   "outputs": [],
   "source": [
    "x = 10\n",
    "if x > 4:\n",
    "    y = \"That's right\"\n",
    "# Show the value of y\n",
    "y"
   ]
  },
  {
   "cell_type": "code",
   "execution_count": 3,
   "id": "75061c49",
   "metadata": {
    "execution": {
     "iopub.execute_input": "2022-12-12T11:59:50.812861Z",
     "iopub.status.busy": "2022-12-12T11:59:50.812712Z",
     "iopub.status.idle": "2022-12-12T11:59:50.824196Z",
     "shell.execute_reply": "2022-12-12T11:59:50.823849Z"
    },
    "lines_to_next_cell": 2
   },
   "outputs": [],
   "source": [
    "_ = ok.grade('q_1_y')"
   ]
  },
  {
   "cell_type": "markdown",
   "id": "c248c955",
   "metadata": {},
   "source": [
    "This `if` statement also gives a `SyntaxError`. Fix and run. It\n",
    "should set `p` to have the value -8."
   ]
  },
  {
   "cell_type": "code",
   "execution_count": 4,
   "id": "b2f9f17e",
   "metadata": {
    "execution": {
     "iopub.execute_input": "2022-12-12T11:59:50.828324Z",
     "iopub.status.busy": "2022-12-12T11:59:50.828177Z",
     "iopub.status.idle": "2022-12-12T11:59:50.830778Z",
     "shell.execute_reply": "2022-12-12T11:59:50.830495Z"
    }
   },
   "outputs": [],
   "source": [
    "p = -2\n",
    "if p < 0:\n",
    "    p = p * 4\n",
    "p"
   ]
  },
  {
   "cell_type": "code",
   "execution_count": 5,
   "id": "6bdfe2e9",
   "metadata": {
    "execution": {
     "iopub.execute_input": "2022-12-12T11:59:50.832652Z",
     "iopub.status.busy": "2022-12-12T11:59:50.832512Z",
     "iopub.status.idle": "2022-12-12T11:59:50.839809Z",
     "shell.execute_reply": "2022-12-12T11:59:50.839449Z"
    },
    "lines_to_next_cell": 2
   },
   "outputs": [],
   "source": [
    "_ = ok.grade('q_2_p')"
   ]
  },
  {
   "cell_type": "markdown",
   "id": "18f4cf28",
   "metadata": {},
   "source": [
    "Another `SyntaxError`; fix and run.  It should show `a divided\n",
    "by 6 is 4`"
   ]
  },
  {
   "cell_type": "code",
   "execution_count": 6,
   "id": "408f1c11",
   "metadata": {
    "execution": {
     "iopub.execute_input": "2022-12-12T11:59:50.843772Z",
     "iopub.status.busy": "2022-12-12T11:59:50.843633Z",
     "iopub.status.idle": "2022-12-12T11:59:50.846348Z",
     "shell.execute_reply": "2022-12-12T11:59:50.846034Z"
    }
   },
   "outputs": [],
   "source": [
    "a = 24\n",
    "if a / 6 == 4:\n",
    "    result = 'a divided by 6 is 4'\n",
    "result"
   ]
  },
  {
   "cell_type": "code",
   "execution_count": 7,
   "id": "25b063d4",
   "metadata": {
    "execution": {
     "iopub.execute_input": "2022-12-12T11:59:50.848228Z",
     "iopub.status.busy": "2022-12-12T11:59:50.848089Z",
     "iopub.status.idle": "2022-12-12T11:59:50.855607Z",
     "shell.execute_reply": "2022-12-12T11:59:50.855257Z"
    }
   },
   "outputs": [],
   "source": [
    "_ = ok.grade('q_3_result')"
   ]
  },
  {
   "cell_type": "markdown",
   "id": "6ef24345",
   "metadata": {},
   "source": [
    "We want an algorithm to choose a newspaper for someone to read\n",
    "in the dentist's waiting room, given what we know about their\n",
    "views on Brexit.\n",
    "\n",
    "Complete the cell below.   At the top, you set `posh_voter` to be one of `'Hard\n",
    "Brexit'`, `'Soft Brexit'`, `'No-deal Brexit`,  or `'Remain'`, or something\n",
    "else.  Complete the cell so that it displays `'Times'` if `posh_voter` has the\n",
    "value `'Soft Brexit'`, otherwise shows `'Telegraph'` if `posh_voter` has the\n",
    "value `'Hard Brexit'` otherwise shows `'Daily Express'` if voter is `'No-deal\n",
    "Brexit'` otherwise shows `'Guardian'` if voter has value `'Remain'`, otherwise\n",
    "shows `'Eclectic / internet?'`.\n",
    "\n",
    "Run the cell with each of the possible `posh_voter` values to check your code\n",
    "gives the right answer."
   ]
  },
  {
   "cell_type": "code",
   "execution_count": 8,
   "id": "c6475103",
   "metadata": {
    "execution": {
     "iopub.execute_input": "2022-12-12T11:59:50.859168Z",
     "iopub.status.busy": "2022-12-12T11:59:50.859033Z",
     "iopub.status.idle": "2022-12-12T11:59:50.862272Z",
     "shell.execute_reply": "2022-12-12T11:59:50.861967Z"
    }
   },
   "outputs": [],
   "source": [
    "posh_voter = 'Hard Brexit'\n",
    "# You can uncomment these lines to set the voter type.\n",
    "# Uncomment by removing the #  at the beginning of the line.\n",
    "# Remember to comment the other voter types.\n",
    "# Comment by adding #  at the beginning of the line.\n",
    "# posh_voter = 'Remain'\n",
    "# posh_voter = 'Hard Brexit'\n",
    "# posh_voter = 'No-deal Brexit'\n",
    "# posh_voter = 'Remain'\n",
    "# posh_voter = 'Undecided'\n",
    "\n",
    "paper = 'Eclectic / internet?'\n",
    "if posh_voter == 'Soft Brexit':\n",
    "    paper =  'Times'\n",
    "if posh_voter == 'Hard Brexit':\n",
    "    paper =  'Telegraph'\n",
    "if posh_voter == 'No-deal Brexit':\n",
    "    paper =  'Daily Express'\n",
    "if posh_voter == 'Remain':\n",
    "    paper =  'Guardian'\n",
    "\n",
    "# Show the result\n",
    "paper"
   ]
  },
  {
   "cell_type": "markdown",
   "id": "9fd18b54",
   "metadata": {},
   "source": [
    "## Done\n",
    "\n",
    "You're finished with the assignment!  Be sure to...\n",
    "\n",
    "- **run all the tests** (the next cell has a shortcut for that),\n",
    "- **Save and Checkpoint** from the \"File\" menu."
   ]
  },
  {
   "cell_type": "code",
   "execution_count": 9,
   "id": "1335e776",
   "metadata": {
    "execution": {
     "iopub.execute_input": "2022-12-12T11:59:50.864131Z",
     "iopub.status.busy": "2022-12-12T11:59:50.864021Z",
     "iopub.status.idle": "2022-12-12T11:59:50.882567Z",
     "shell.execute_reply": "2022-12-12T11:59:50.882259Z"
    }
   },
   "outputs": [],
   "source": [
    "# For your convenience, you can run this cell to run all the tests at once!\n",
    "import os\n",
    "_ = [ok.grade(q[:-3]) for q in sorted(os.listdir(\"tests\")) if q.startswith('q')]"
   ]
  }
 ],
 "metadata": {
  "jupytext": {
   "notebook_metadata_filter": "all,-language_info",
   "split_at_heading": true,
   "text_representation": {
    "extension": ".Rmd",
    "format_name": "rmarkdown",
    "format_version": "1.1",
    "jupytext_version": "1.2.4"
   }
  },
  "kernelspec": {
   "display_name": "Python 3",
   "language": "python",
   "name": "python3"
  },
  "language_info": {
   "codemirror_mode": {
    "name": "ipython",
    "version": 3
   },
   "file_extension": ".py",
   "mimetype": "text/x-python",
   "name": "python",
   "nbconvert_exporter": "python",
   "pygments_lexer": "ipython3",
   "version": "3.10.7"
  },
  "textbook": {
   "run": false
  }
 },
 "nbformat": 4,
 "nbformat_minor": 5
}
