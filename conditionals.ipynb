{
 "cells": [
  {
   "cell_type": "markdown",
   "id": "7282ea2b",
   "metadata": {},
   "source": [
    "# Exercises on conditional statements\n",
    "\n",
    "For background, please read the [conditional statements](https://lisds.github.io/textbook/functions-conditionals/conditional_statements) introduction."
   ]
  },
  {
   "cell_type": "code",
   "execution_count": null,
   "id": "e713e585",
   "metadata": {},
   "outputs": [],
   "source": [
    "# Load the OKpy test library and tests.\n",
    "from client.api.notebook import Notebook\n",
    "ok = Notebook('conditionals.ok')"
   ]
  },
  {
   "cell_type": "markdown",
   "id": "e746f3e5",
   "metadata": {},
   "source": [
    "This *if statement* is not properly defined, and will give a `SyntaxError`.\n",
    "Fix it, so that `y` gets set to \"That's right\"."
   ]
  },
  {
   "cell_type": "code",
   "execution_count": null,
   "id": "a1ebd1e3",
   "metadata": {},
   "outputs": [],
   "source": [
    "x = 10\n",
    "x > 4:\n",
    "    y = \"That's right\"\n",
    "# Show the value of y\n",
    "y"
   ]
  },
  {
   "cell_type": "code",
   "execution_count": null,
   "id": "d69438fd",
   "metadata": {
    "lines_to_next_cell": 2
   },
   "outputs": [],
   "source": [
    "_ = ok.grade('q_1_y')"
   ]
  },
  {
   "cell_type": "markdown",
   "id": "26094674",
   "metadata": {},
   "source": [
    "This `if` statement also gives a `SyntaxError`. Fix and run. It\n",
    "should set `p` to have the value -8."
   ]
  },
  {
   "cell_type": "code",
   "execution_count": null,
   "id": "47818124",
   "metadata": {},
   "outputs": [],
   "source": [
    "p = -2\n",
    "if p < 0\n",
    "p"
   ]
  },
  {
   "cell_type": "code",
   "execution_count": null,
   "id": "e5b84f8a",
   "metadata": {
    "lines_to_next_cell": 2
   },
   "outputs": [],
   "source": [
    "_ = ok.grade('q_2_p')"
   ]
  },
  {
   "cell_type": "markdown",
   "id": "17502a2e",
   "metadata": {},
   "source": [
    "Another `SyntaxError`; fix and run.  It should show `a divided\n",
    "by 6 is 4`"
   ]
  },
  {
   "cell_type": "code",
   "execution_count": null,
   "id": "2c0448ea",
   "metadata": {},
   "outputs": [],
   "source": [
    "a = 24\n",
    "if a / 6 == 4:\n",
    "result = 'a divided by 6 is 4'\n",
    "result"
   ]
  },
  {
   "cell_type": "code",
   "execution_count": null,
   "id": "238b3e4b",
   "metadata": {},
   "outputs": [],
   "source": [
    "_ = ok.grade('q_3_result')"
   ]
  },
  {
   "cell_type": "markdown",
   "id": "52ee6110",
   "metadata": {},
   "source": [
    "We want an algorithm to choose a newspaper for someone to read\n",
    "in the dentist's waiting room, given what we know about their\n",
    "views on Brexit.\n",
    "\n",
    "Complete the cell below.   At the top, you set `posh_voter` to be one of `'Hard\n",
    "Brexit'`, `'Soft Brexit'`, `'No-deal Brexit`,  or `'Remain'`, or something\n",
    "else.  Complete the cell so that it displays `'Times'` if `posh_voter` has the\n",
    "value `'Soft Brexit'`, otherwise shows `'Telegraph'` if `posh_voter` has the\n",
    "value `'Hard Brexit'` otherwise shows `'Daily Express'` if voter is `'No-deal\n",
    "Brexit'` otherwise shows `'Guardian'` if voter has value `'Remain'`, otherwise\n",
    "shows `'Eclectic / internet?'`.\n",
    "\n",
    "Run the cell with each of the possible `posh_voter` values to check your code\n",
    "gives the right answer."
   ]
  },
  {
   "cell_type": "code",
   "execution_count": null,
   "id": "0e7313dd",
   "metadata": {},
   "outputs": [],
   "source": [
    "posh_voter = 'Hard Brexit'\n",
    "# You can uncomment these lines to set the voter type.\n",
    "# Uncomment by removing the #  at the beginning of the line.\n",
    "# Remember to comment the other voter types.\n",
    "# Comment by adding #  at the beginning of the line.\n",
    "# posh_voter = 'Remain'\n",
    "# posh_voter = 'Hard Brexit'\n",
    "# posh_voter = 'No-deal Brexit'\n",
    "# posh_voter = 'Remain'\n",
    "# posh_voter = 'Undecided'\n",
    "\n",
    "paper = 'Eclectic / internet?'\n",
    "if posh_voter ...\n",
    "    ...\n",
    "...\n",
    "\n",
    "# Show the result\n",
    "paper"
   ]
  },
  {
   "cell_type": "markdown",
   "id": "a3e13b89",
   "metadata": {},
   "source": [
    "## Done\n",
    "\n",
    "You're finished with the assignment!  Be sure to...\n",
    "\n",
    "- **run all the tests** (the next cell has a shortcut for that),\n",
    "- **Save and Checkpoint** from the \"File\" menu."
   ]
  },
  {
   "cell_type": "code",
   "execution_count": null,
   "id": "11f2b606",
   "metadata": {},
   "outputs": [],
   "source": [
    "# For your convenience, you can run this cell to run all the tests at once!\n",
    "import os\n",
    "_ = [ok.grade(q[:-3]) for q in sorted(os.listdir(\"tests\")) if q.startswith('q')]"
   ]
  }
 ],
 "metadata": {
  "jupytext": {
   "notebook_metadata_filter": "all,-language_info",
   "split_at_heading": true,
   "text_representation": {
    "extension": ".Rmd",
    "format_name": "rmarkdown",
    "format_version": "1.1",
    "jupytext_version": "1.2.4"
   }
  },
  "kernelspec": {
   "display_name": "Python 3",
   "language": "python",
   "name": "python3"
  },
  "textbook": {
   "run": false
  }
 },
 "nbformat": 4,
 "nbformat_minor": 5
}
